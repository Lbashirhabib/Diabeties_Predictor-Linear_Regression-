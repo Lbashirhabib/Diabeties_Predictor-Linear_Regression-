{
 "cells": [
  {
   "cell_type": "code",
   "execution_count": 1,
   "metadata": {},
   "outputs": [
    {
     "name": "stdout",
     "output_type": "stream",
     "text": [
      "✅ Model loaded successfully!\n",
      "📊 Predicted diabetes progression: 172.94\n"
     ]
    },
    {
     "name": "stderr",
     "output_type": "stream",
     "text": [
      "c:\\Users\\hp\\anaconda3\\Lib\\site-packages\\sklearn\\base.py:486: UserWarning: X has feature names, but LinearRegression was fitted without feature names\n",
      "  warnings.warn(\n"
     ]
    }
   ],
   "source": [
    "# diabetes_predictor.py\n",
    "import joblib\n",
    "import pandas as pd\n",
    "\n",
    "# 1. Load your saved model\n",
    "try:\n",
    "    model = joblib.load('diabetes_model.pkl')\n",
    "    print(\"✅ Model loaded successfully!\")\n",
    "except FileNotFoundError:\n",
    "    print(\"❌ Error: Model file not found. Make sure 'diabetes_model.pkl' is in your current directory.\")\n",
    "    exit()\n",
    "\n",
    "# 2. Prepare sample input (using normalized blood pressure)\n",
    "sample_bp = 0.021872  # Your mom's normalized blood pressure value\n",
    "input_data = pd.DataFrame([[sample_bp]], columns=['bp'])  # Must match training format\n",
    "\n",
    "# 3. Make prediction\n",
    "try:\n",
    "    prediction = model.predict(input_data)\n",
    "    print(f\"📊 Predicted diabetes progression: {prediction[0]:.2f}\")\n",
    "except Exception as e:\n",
    "    print(f\"❌ Prediction failed: {str(e)}\")"
   ]
  }
 ],
 "metadata": {
  "kernelspec": {
   "display_name": "base",
   "language": "python",
   "name": "python3"
  },
  "language_info": {
   "codemirror_mode": {
    "name": "ipython",
    "version": 3
   },
   "file_extension": ".py",
   "mimetype": "text/x-python",
   "name": "python",
   "nbconvert_exporter": "python",
   "pygments_lexer": "ipython3",
   "version": "3.12.7"
  }
 },
 "nbformat": 4,
 "nbformat_minor": 2
}
